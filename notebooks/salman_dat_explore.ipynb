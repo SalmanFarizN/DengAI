{
 "cells": [
  {
   "cell_type": "code",
   "execution_count": 2,
   "id": "92df2176",
   "metadata": {},
   "outputs": [],
   "source": [
    "import numpy as np\n",
    "import pandas as pd"
   ]
  },
  {
   "cell_type": "code",
   "execution_count": 5,
   "id": "321ce79c",
   "metadata": {},
   "outputs": [],
   "source": [
    "# load the raw datasets\n",
    "train_features = pd.read_csv(\n",
    "    \"../data/raw/DengAI_Predicting_Disease_Spread_-_Training_Data_Features.csv\"\n",
    ")\n",
    "\n",
    "train_labels = pd.read_csv(\n",
    "    \"../data/raw/DengAI_Predicting_Disease_Spread_-_Training_Data_Labels.csv\"\n",
    ")"
   ]
  },
  {
   "cell_type": "code",
   "execution_count": 6,
   "id": "74a44e46",
   "metadata": {},
   "outputs": [
    {
     "data": {
      "application/vnd.microsoft.datawrangler.viewer.v0+json": {
       "columns": [
        {
         "name": "index",
         "rawType": "int64",
         "type": "integer"
        },
        {
         "name": "city",
         "rawType": "object",
         "type": "string"
        },
        {
         "name": "year",
         "rawType": "int64",
         "type": "integer"
        },
        {
         "name": "weekofyear",
         "rawType": "int64",
         "type": "integer"
        },
        {
         "name": "week_start_date",
         "rawType": "object",
         "type": "string"
        },
        {
         "name": "ndvi_ne",
         "rawType": "float64",
         "type": "float"
        },
        {
         "name": "ndvi_nw",
         "rawType": "float64",
         "type": "float"
        },
        {
         "name": "ndvi_se",
         "rawType": "float64",
         "type": "float"
        },
        {
         "name": "ndvi_sw",
         "rawType": "float64",
         "type": "float"
        },
        {
         "name": "precipitation_amt_mm",
         "rawType": "float64",
         "type": "float"
        },
        {
         "name": "reanalysis_air_temp_k",
         "rawType": "float64",
         "type": "float"
        },
        {
         "name": "reanalysis_avg_temp_k",
         "rawType": "float64",
         "type": "float"
        },
        {
         "name": "reanalysis_dew_point_temp_k",
         "rawType": "float64",
         "type": "float"
        },
        {
         "name": "reanalysis_max_air_temp_k",
         "rawType": "float64",
         "type": "float"
        },
        {
         "name": "reanalysis_min_air_temp_k",
         "rawType": "float64",
         "type": "float"
        },
        {
         "name": "reanalysis_precip_amt_kg_per_m2",
         "rawType": "float64",
         "type": "float"
        },
        {
         "name": "reanalysis_relative_humidity_percent",
         "rawType": "float64",
         "type": "float"
        },
        {
         "name": "reanalysis_sat_precip_amt_mm",
         "rawType": "float64",
         "type": "float"
        },
        {
         "name": "reanalysis_specific_humidity_g_per_kg",
         "rawType": "float64",
         "type": "float"
        },
        {
         "name": "reanalysis_tdtr_k",
         "rawType": "float64",
         "type": "float"
        },
        {
         "name": "station_avg_temp_c",
         "rawType": "float64",
         "type": "float"
        },
        {
         "name": "station_diur_temp_rng_c",
         "rawType": "float64",
         "type": "float"
        },
        {
         "name": "station_max_temp_c",
         "rawType": "float64",
         "type": "float"
        },
        {
         "name": "station_min_temp_c",
         "rawType": "float64",
         "type": "float"
        },
        {
         "name": "station_precip_mm",
         "rawType": "float64",
         "type": "float"
        }
       ],
       "ref": "5189c686-db1b-414a-b387-e2c3f2ded9f3",
       "rows": [
        [
         "0",
         "sj",
         "1990",
         "18",
         "1990-04-30",
         "0.1226",
         "0.103725",
         "0.1984833",
         "0.1776167",
         "12.42",
         "297.572857143",
         "297.742857143",
         "292.414285714",
         "299.8",
         "295.9",
         "32.0",
         "73.3657142857",
         "12.42",
         "14.0128571429",
         "2.62857142857",
         "25.4428571429",
         "6.9",
         "29.4",
         "20.0",
         "16.0"
        ],
        [
         "1",
         "sj",
         "1990",
         "19",
         "1990-05-07",
         "0.1699",
         "0.142175",
         "0.1623571",
         "0.1554857",
         "22.82",
         "298.211428571",
         "298.442857143",
         "293.951428571",
         "300.9",
         "296.4",
         "17.94",
         "77.3685714286",
         "22.82",
         "15.3728571429",
         "2.37142857143",
         "26.7142857143",
         "6.37142857143",
         "31.7",
         "22.2",
         "8.6"
        ],
        [
         "2",
         "sj",
         "1990",
         "20",
         "1990-05-14",
         "0.03225",
         "0.1729667",
         "0.1572",
         "0.1708429",
         "34.54",
         "298.781428571",
         "298.878571429",
         "295.434285714",
         "300.5",
         "297.3",
         "26.1",
         "82.0528571429",
         "34.54",
         "16.8485714286",
         "2.3",
         "26.7142857143",
         "6.48571428571",
         "32.2",
         "22.8",
         "41.4"
        ],
        [
         "3",
         "sj",
         "1990",
         "21",
         "1990-05-21",
         "0.1286333",
         "0.2450667",
         "0.2275571",
         "0.2358857",
         "15.36",
         "298.987142857",
         "299.228571429",
         "295.31",
         "301.4",
         "297.0",
         "13.9",
         "80.3371428571",
         "15.36",
         "16.6728571429",
         "2.42857142857",
         "27.4714285714",
         "6.77142857143",
         "33.3",
         "23.3",
         "4.0"
        ],
        [
         "4",
         "sj",
         "1990",
         "22",
         "1990-05-28",
         "0.1962",
         "0.2622",
         "0.2512",
         "0.24734",
         "7.52",
         "299.518571429",
         "299.664285714",
         "295.821428571",
         "301.9",
         "297.5",
         "12.2",
         "80.46",
         "7.52",
         "17.21",
         "3.01428571429",
         "28.9428571429",
         "9.37142857143",
         "35.0",
         "23.9",
         "5.8"
        ]
       ],
       "shape": {
        "columns": 24,
        "rows": 5
       }
      },
      "text/html": [
       "<div>\n",
       "<style scoped>\n",
       "    .dataframe tbody tr th:only-of-type {\n",
       "        vertical-align: middle;\n",
       "    }\n",
       "\n",
       "    .dataframe tbody tr th {\n",
       "        vertical-align: top;\n",
       "    }\n",
       "\n",
       "    .dataframe thead th {\n",
       "        text-align: right;\n",
       "    }\n",
       "</style>\n",
       "<table border=\"1\" class=\"dataframe\">\n",
       "  <thead>\n",
       "    <tr style=\"text-align: right;\">\n",
       "      <th></th>\n",
       "      <th>city</th>\n",
       "      <th>year</th>\n",
       "      <th>weekofyear</th>\n",
       "      <th>week_start_date</th>\n",
       "      <th>ndvi_ne</th>\n",
       "      <th>ndvi_nw</th>\n",
       "      <th>ndvi_se</th>\n",
       "      <th>ndvi_sw</th>\n",
       "      <th>precipitation_amt_mm</th>\n",
       "      <th>reanalysis_air_temp_k</th>\n",
       "      <th>...</th>\n",
       "      <th>reanalysis_precip_amt_kg_per_m2</th>\n",
       "      <th>reanalysis_relative_humidity_percent</th>\n",
       "      <th>reanalysis_sat_precip_amt_mm</th>\n",
       "      <th>reanalysis_specific_humidity_g_per_kg</th>\n",
       "      <th>reanalysis_tdtr_k</th>\n",
       "      <th>station_avg_temp_c</th>\n",
       "      <th>station_diur_temp_rng_c</th>\n",
       "      <th>station_max_temp_c</th>\n",
       "      <th>station_min_temp_c</th>\n",
       "      <th>station_precip_mm</th>\n",
       "    </tr>\n",
       "  </thead>\n",
       "  <tbody>\n",
       "    <tr>\n",
       "      <th>0</th>\n",
       "      <td>sj</td>\n",
       "      <td>1990</td>\n",
       "      <td>18</td>\n",
       "      <td>1990-04-30</td>\n",
       "      <td>0.122600</td>\n",
       "      <td>0.103725</td>\n",
       "      <td>0.198483</td>\n",
       "      <td>0.177617</td>\n",
       "      <td>12.42</td>\n",
       "      <td>297.572857</td>\n",
       "      <td>...</td>\n",
       "      <td>32.00</td>\n",
       "      <td>73.365714</td>\n",
       "      <td>12.42</td>\n",
       "      <td>14.012857</td>\n",
       "      <td>2.628571</td>\n",
       "      <td>25.442857</td>\n",
       "      <td>6.900000</td>\n",
       "      <td>29.4</td>\n",
       "      <td>20.0</td>\n",
       "      <td>16.0</td>\n",
       "    </tr>\n",
       "    <tr>\n",
       "      <th>1</th>\n",
       "      <td>sj</td>\n",
       "      <td>1990</td>\n",
       "      <td>19</td>\n",
       "      <td>1990-05-07</td>\n",
       "      <td>0.169900</td>\n",
       "      <td>0.142175</td>\n",
       "      <td>0.162357</td>\n",
       "      <td>0.155486</td>\n",
       "      <td>22.82</td>\n",
       "      <td>298.211429</td>\n",
       "      <td>...</td>\n",
       "      <td>17.94</td>\n",
       "      <td>77.368571</td>\n",
       "      <td>22.82</td>\n",
       "      <td>15.372857</td>\n",
       "      <td>2.371429</td>\n",
       "      <td>26.714286</td>\n",
       "      <td>6.371429</td>\n",
       "      <td>31.7</td>\n",
       "      <td>22.2</td>\n",
       "      <td>8.6</td>\n",
       "    </tr>\n",
       "    <tr>\n",
       "      <th>2</th>\n",
       "      <td>sj</td>\n",
       "      <td>1990</td>\n",
       "      <td>20</td>\n",
       "      <td>1990-05-14</td>\n",
       "      <td>0.032250</td>\n",
       "      <td>0.172967</td>\n",
       "      <td>0.157200</td>\n",
       "      <td>0.170843</td>\n",
       "      <td>34.54</td>\n",
       "      <td>298.781429</td>\n",
       "      <td>...</td>\n",
       "      <td>26.10</td>\n",
       "      <td>82.052857</td>\n",
       "      <td>34.54</td>\n",
       "      <td>16.848571</td>\n",
       "      <td>2.300000</td>\n",
       "      <td>26.714286</td>\n",
       "      <td>6.485714</td>\n",
       "      <td>32.2</td>\n",
       "      <td>22.8</td>\n",
       "      <td>41.4</td>\n",
       "    </tr>\n",
       "    <tr>\n",
       "      <th>3</th>\n",
       "      <td>sj</td>\n",
       "      <td>1990</td>\n",
       "      <td>21</td>\n",
       "      <td>1990-05-21</td>\n",
       "      <td>0.128633</td>\n",
       "      <td>0.245067</td>\n",
       "      <td>0.227557</td>\n",
       "      <td>0.235886</td>\n",
       "      <td>15.36</td>\n",
       "      <td>298.987143</td>\n",
       "      <td>...</td>\n",
       "      <td>13.90</td>\n",
       "      <td>80.337143</td>\n",
       "      <td>15.36</td>\n",
       "      <td>16.672857</td>\n",
       "      <td>2.428571</td>\n",
       "      <td>27.471429</td>\n",
       "      <td>6.771429</td>\n",
       "      <td>33.3</td>\n",
       "      <td>23.3</td>\n",
       "      <td>4.0</td>\n",
       "    </tr>\n",
       "    <tr>\n",
       "      <th>4</th>\n",
       "      <td>sj</td>\n",
       "      <td>1990</td>\n",
       "      <td>22</td>\n",
       "      <td>1990-05-28</td>\n",
       "      <td>0.196200</td>\n",
       "      <td>0.262200</td>\n",
       "      <td>0.251200</td>\n",
       "      <td>0.247340</td>\n",
       "      <td>7.52</td>\n",
       "      <td>299.518571</td>\n",
       "      <td>...</td>\n",
       "      <td>12.20</td>\n",
       "      <td>80.460000</td>\n",
       "      <td>7.52</td>\n",
       "      <td>17.210000</td>\n",
       "      <td>3.014286</td>\n",
       "      <td>28.942857</td>\n",
       "      <td>9.371429</td>\n",
       "      <td>35.0</td>\n",
       "      <td>23.9</td>\n",
       "      <td>5.8</td>\n",
       "    </tr>\n",
       "  </tbody>\n",
       "</table>\n",
       "<p>5 rows × 24 columns</p>\n",
       "</div>"
      ],
      "text/plain": [
       "  city  year  weekofyear week_start_date   ndvi_ne   ndvi_nw   ndvi_se  \\\n",
       "0   sj  1990          18      1990-04-30  0.122600  0.103725  0.198483   \n",
       "1   sj  1990          19      1990-05-07  0.169900  0.142175  0.162357   \n",
       "2   sj  1990          20      1990-05-14  0.032250  0.172967  0.157200   \n",
       "3   sj  1990          21      1990-05-21  0.128633  0.245067  0.227557   \n",
       "4   sj  1990          22      1990-05-28  0.196200  0.262200  0.251200   \n",
       "\n",
       "    ndvi_sw  precipitation_amt_mm  reanalysis_air_temp_k  ...  \\\n",
       "0  0.177617                 12.42             297.572857  ...   \n",
       "1  0.155486                 22.82             298.211429  ...   \n",
       "2  0.170843                 34.54             298.781429  ...   \n",
       "3  0.235886                 15.36             298.987143  ...   \n",
       "4  0.247340                  7.52             299.518571  ...   \n",
       "\n",
       "   reanalysis_precip_amt_kg_per_m2  reanalysis_relative_humidity_percent  \\\n",
       "0                            32.00                             73.365714   \n",
       "1                            17.94                             77.368571   \n",
       "2                            26.10                             82.052857   \n",
       "3                            13.90                             80.337143   \n",
       "4                            12.20                             80.460000   \n",
       "\n",
       "   reanalysis_sat_precip_amt_mm  reanalysis_specific_humidity_g_per_kg  \\\n",
       "0                         12.42                              14.012857   \n",
       "1                         22.82                              15.372857   \n",
       "2                         34.54                              16.848571   \n",
       "3                         15.36                              16.672857   \n",
       "4                          7.52                              17.210000   \n",
       "\n",
       "   reanalysis_tdtr_k  station_avg_temp_c  station_diur_temp_rng_c  \\\n",
       "0           2.628571           25.442857                 6.900000   \n",
       "1           2.371429           26.714286                 6.371429   \n",
       "2           2.300000           26.714286                 6.485714   \n",
       "3           2.428571           27.471429                 6.771429   \n",
       "4           3.014286           28.942857                 9.371429   \n",
       "\n",
       "   station_max_temp_c  station_min_temp_c  station_precip_mm  \n",
       "0                29.4                20.0               16.0  \n",
       "1                31.7                22.2                8.6  \n",
       "2                32.2                22.8               41.4  \n",
       "3                33.3                23.3                4.0  \n",
       "4                35.0                23.9                5.8  \n",
       "\n",
       "[5 rows x 24 columns]"
      ]
     },
     "execution_count": 6,
     "metadata": {},
     "output_type": "execute_result"
    }
   ],
   "source": [
    "train_features.head()"
   ]
  },
  {
   "cell_type": "code",
   "execution_count": 8,
   "id": "d4ecfcfb",
   "metadata": {},
   "outputs": [
    {
     "data": {
      "application/vnd.microsoft.datawrangler.viewer.v0+json": {
       "columns": [
        {
         "name": "index",
         "rawType": "int64",
         "type": "integer"
        },
        {
         "name": "city",
         "rawType": "object",
         "type": "string"
        },
        {
         "name": "year",
         "rawType": "int64",
         "type": "integer"
        },
        {
         "name": "weekofyear",
         "rawType": "int64",
         "type": "integer"
        },
        {
         "name": "total_cases",
         "rawType": "int64",
         "type": "integer"
        }
       ],
       "ref": "1c1bdd29-bfd9-49b1-882e-dde51106b7b6",
       "rows": [
        [
         "0",
         "sj",
         "1990",
         "18",
         "4"
        ],
        [
         "1",
         "sj",
         "1990",
         "19",
         "5"
        ],
        [
         "2",
         "sj",
         "1990",
         "20",
         "4"
        ],
        [
         "3",
         "sj",
         "1990",
         "21",
         "3"
        ],
        [
         "4",
         "sj",
         "1990",
         "22",
         "6"
        ]
       ],
       "shape": {
        "columns": 4,
        "rows": 5
       }
      },
      "text/html": [
       "<div>\n",
       "<style scoped>\n",
       "    .dataframe tbody tr th:only-of-type {\n",
       "        vertical-align: middle;\n",
       "    }\n",
       "\n",
       "    .dataframe tbody tr th {\n",
       "        vertical-align: top;\n",
       "    }\n",
       "\n",
       "    .dataframe thead th {\n",
       "        text-align: right;\n",
       "    }\n",
       "</style>\n",
       "<table border=\"1\" class=\"dataframe\">\n",
       "  <thead>\n",
       "    <tr style=\"text-align: right;\">\n",
       "      <th></th>\n",
       "      <th>city</th>\n",
       "      <th>year</th>\n",
       "      <th>weekofyear</th>\n",
       "      <th>total_cases</th>\n",
       "    </tr>\n",
       "  </thead>\n",
       "  <tbody>\n",
       "    <tr>\n",
       "      <th>0</th>\n",
       "      <td>sj</td>\n",
       "      <td>1990</td>\n",
       "      <td>18</td>\n",
       "      <td>4</td>\n",
       "    </tr>\n",
       "    <tr>\n",
       "      <th>1</th>\n",
       "      <td>sj</td>\n",
       "      <td>1990</td>\n",
       "      <td>19</td>\n",
       "      <td>5</td>\n",
       "    </tr>\n",
       "    <tr>\n",
       "      <th>2</th>\n",
       "      <td>sj</td>\n",
       "      <td>1990</td>\n",
       "      <td>20</td>\n",
       "      <td>4</td>\n",
       "    </tr>\n",
       "    <tr>\n",
       "      <th>3</th>\n",
       "      <td>sj</td>\n",
       "      <td>1990</td>\n",
       "      <td>21</td>\n",
       "      <td>3</td>\n",
       "    </tr>\n",
       "    <tr>\n",
       "      <th>4</th>\n",
       "      <td>sj</td>\n",
       "      <td>1990</td>\n",
       "      <td>22</td>\n",
       "      <td>6</td>\n",
       "    </tr>\n",
       "  </tbody>\n",
       "</table>\n",
       "</div>"
      ],
      "text/plain": [
       "  city  year  weekofyear  total_cases\n",
       "0   sj  1990          18            4\n",
       "1   sj  1990          19            5\n",
       "2   sj  1990          20            4\n",
       "3   sj  1990          21            3\n",
       "4   sj  1990          22            6"
      ]
     },
     "execution_count": 8,
     "metadata": {},
     "output_type": "execute_result"
    }
   ],
   "source": [
    "train_labels.head()"
   ]
  },
  {
   "cell_type": "code",
   "execution_count": null,
   "id": "09302743",
   "metadata": {},
   "outputs": [
    {
     "name": "stdout",
     "output_type": "stream",
     "text": [
      "Missing values in train_features:\n",
      " ndvi_ne                                  194\n",
      "ndvi_nw                                   52\n",
      "ndvi_se                                   22\n",
      "ndvi_sw                                   22\n",
      "precipitation_amt_mm                      13\n",
      "reanalysis_air_temp_k                     10\n",
      "reanalysis_avg_temp_k                     10\n",
      "reanalysis_dew_point_temp_k               10\n",
      "reanalysis_max_air_temp_k                 10\n",
      "reanalysis_min_air_temp_k                 10\n",
      "reanalysis_precip_amt_kg_per_m2           10\n",
      "reanalysis_relative_humidity_percent      10\n",
      "reanalysis_sat_precip_amt_mm              13\n",
      "reanalysis_specific_humidity_g_per_kg     10\n",
      "reanalysis_tdtr_k                         10\n",
      "station_avg_temp_c                        43\n",
      "station_diur_temp_rng_c                   43\n",
      "station_max_temp_c                        20\n",
      "station_min_temp_c                        14\n",
      "station_precip_mm                         22\n",
      "dtype: int64\n"
     ]
    }
   ],
   "source": [
    "# Check if there are any missing values in the train_features dataset\n",
    "missing_values = train_features.isnull().sum()\n",
    "print(\"Missing values in train_features:\\n\", missing_values[missing_values > 0])"
   ]
  },
  {
   "cell_type": "code",
   "execution_count": null,
   "id": "28cce137",
   "metadata": {},
   "outputs": [
    {
     "name": "stdout",
     "output_type": "stream",
     "text": [
      "Missing values in train_labels:\n",
      " Series([], dtype: int64)\n"
     ]
    }
   ],
   "source": [
    "# Missing values in the train_labels dataset\n",
    "missing_values_labels = train_labels.isnull().sum()\n",
    "print(\n",
    "    \"Missing values in train_labels:\\n\",\n",
    "    missing_values_labels[missing_values_labels > 0],\n",
    ")"
   ]
  }
 ],
 "metadata": {
  "kernelspec": {
   "display_name": "dengai",
   "language": "python",
   "name": "python3"
  },
  "language_info": {
   "codemirror_mode": {
    "name": "ipython",
    "version": 3
   },
   "file_extension": ".py",
   "mimetype": "text/x-python",
   "name": "python",
   "nbconvert_exporter": "python",
   "pygments_lexer": "ipython3",
   "version": "3.13.5"
  }
 },
 "nbformat": 4,
 "nbformat_minor": 5
}
